{
 "cells": [
  {
   "cell_type": "code",
   "execution_count": 49,
   "id": "5e082007",
   "metadata": {},
   "outputs": [],
   "source": [
    "import pandas as pd"
   ]
  },
  {
   "cell_type": "code",
   "execution_count": 50,
   "id": "e248b0c4",
   "metadata": {},
   "outputs": [],
   "source": [
    "df = pd.read_csv(\"./test_benign/52e6d88cf6e53d4d94edcb60f03fee0a.csv\")"
   ]
  },
  {
   "cell_type": "code",
   "execution_count": 51,
   "id": "57d42dc4",
   "metadata": {},
   "outputs": [
    {
     "data": {
      "text/html": [
       "<div>\n",
       "<style scoped>\n",
       "    .dataframe tbody tr th:only-of-type {\n",
       "        vertical-align: middle;\n",
       "    }\n",
       "\n",
       "    .dataframe tbody tr th {\n",
       "        vertical-align: top;\n",
       "    }\n",
       "\n",
       "    .dataframe thead th {\n",
       "        text-align: right;\n",
       "    }\n",
       "</style>\n",
       "<table border=\"1\" class=\"dataframe\">\n",
       "  <thead>\n",
       "    <tr style=\"text-align: right;\">\n",
       "      <th></th>\n",
       "      <th>push</th>\n",
       "    </tr>\n",
       "  </thead>\n",
       "  <tbody>\n",
       "    <tr>\n",
       "      <th>0</th>\n",
       "      <td>push</td>\n",
       "    </tr>\n",
       "    <tr>\n",
       "      <th>1</th>\n",
       "      <td>mov</td>\n",
       "    </tr>\n",
       "    <tr>\n",
       "      <th>2</th>\n",
       "      <td>push</td>\n",
       "    </tr>\n",
       "    <tr>\n",
       "      <th>3</th>\n",
       "      <td>mov</td>\n",
       "    </tr>\n",
       "    <tr>\n",
       "      <th>4</th>\n",
       "      <td>push</td>\n",
       "    </tr>\n",
       "    <tr>\n",
       "      <th>...</th>\n",
       "      <td>...</td>\n",
       "    </tr>\n",
       "    <tr>\n",
       "      <th>304013</th>\n",
       "      <td>retn</td>\n",
       "    </tr>\n",
       "    <tr>\n",
       "      <th>304014</th>\n",
       "      <td>mov</td>\n",
       "    </tr>\n",
       "    <tr>\n",
       "      <th>304015</th>\n",
       "      <td>mov</td>\n",
       "    </tr>\n",
       "    <tr>\n",
       "      <th>304016</th>\n",
       "      <td>pop</td>\n",
       "    </tr>\n",
       "    <tr>\n",
       "      <th>304017</th>\n",
       "      <td>retn</td>\n",
       "    </tr>\n",
       "  </tbody>\n",
       "</table>\n",
       "<p>304018 rows × 1 columns</p>\n",
       "</div>"
      ],
      "text/plain": [
       "        push\n",
       "0       push\n",
       "1        mov\n",
       "2       push\n",
       "3        mov\n",
       "4       push\n",
       "...      ...\n",
       "304013  retn\n",
       "304014   mov\n",
       "304015   mov\n",
       "304016   pop\n",
       "304017  retn\n",
       "\n",
       "[304018 rows x 1 columns]"
      ]
     },
     "execution_count": 51,
     "metadata": {},
     "output_type": "execute_result"
    }
   ],
   "source": [
    "df"
   ]
  },
  {
   "cell_type": "code",
   "execution_count": 53,
   "id": "60d7b0ec",
   "metadata": {},
   "outputs": [],
   "source": [
    "df.columns = ['opcode']"
   ]
  },
  {
   "cell_type": "code",
   "execution_count": 54,
   "id": "59282f58",
   "metadata": {},
   "outputs": [
    {
     "data": {
      "text/html": [
       "<div>\n",
       "<style scoped>\n",
       "    .dataframe tbody tr th:only-of-type {\n",
       "        vertical-align: middle;\n",
       "    }\n",
       "\n",
       "    .dataframe tbody tr th {\n",
       "        vertical-align: top;\n",
       "    }\n",
       "\n",
       "    .dataframe thead th {\n",
       "        text-align: right;\n",
       "    }\n",
       "</style>\n",
       "<table border=\"1\" class=\"dataframe\">\n",
       "  <thead>\n",
       "    <tr style=\"text-align: right;\">\n",
       "      <th></th>\n",
       "      <th>opcode</th>\n",
       "    </tr>\n",
       "  </thead>\n",
       "  <tbody>\n",
       "    <tr>\n",
       "      <th>0</th>\n",
       "      <td>push</td>\n",
       "    </tr>\n",
       "    <tr>\n",
       "      <th>1</th>\n",
       "      <td>mov</td>\n",
       "    </tr>\n",
       "    <tr>\n",
       "      <th>2</th>\n",
       "      <td>push</td>\n",
       "    </tr>\n",
       "    <tr>\n",
       "      <th>3</th>\n",
       "      <td>mov</td>\n",
       "    </tr>\n",
       "    <tr>\n",
       "      <th>4</th>\n",
       "      <td>push</td>\n",
       "    </tr>\n",
       "    <tr>\n",
       "      <th>...</th>\n",
       "      <td>...</td>\n",
       "    </tr>\n",
       "    <tr>\n",
       "      <th>304013</th>\n",
       "      <td>retn</td>\n",
       "    </tr>\n",
       "    <tr>\n",
       "      <th>304014</th>\n",
       "      <td>mov</td>\n",
       "    </tr>\n",
       "    <tr>\n",
       "      <th>304015</th>\n",
       "      <td>mov</td>\n",
       "    </tr>\n",
       "    <tr>\n",
       "      <th>304016</th>\n",
       "      <td>pop</td>\n",
       "    </tr>\n",
       "    <tr>\n",
       "      <th>304017</th>\n",
       "      <td>retn</td>\n",
       "    </tr>\n",
       "  </tbody>\n",
       "</table>\n",
       "<p>304018 rows × 1 columns</p>\n",
       "</div>"
      ],
      "text/plain": [
       "       opcode\n",
       "0        push\n",
       "1         mov\n",
       "2        push\n",
       "3         mov\n",
       "4        push\n",
       "...       ...\n",
       "304013   retn\n",
       "304014    mov\n",
       "304015    mov\n",
       "304016    pop\n",
       "304017   retn\n",
       "\n",
       "[304018 rows x 1 columns]"
      ]
     },
     "execution_count": 54,
     "metadata": {},
     "output_type": "execute_result"
    }
   ],
   "source": [
    "df"
   ]
  },
  {
   "cell_type": "code",
   "execution_count": 55,
   "id": "f2c2b166",
   "metadata": {},
   "outputs": [
    {
     "data": {
      "text/html": [
       "<div>\n",
       "<style scoped>\n",
       "    .dataframe tbody tr th:only-of-type {\n",
       "        vertical-align: middle;\n",
       "    }\n",
       "\n",
       "    .dataframe tbody tr th {\n",
       "        vertical-align: top;\n",
       "    }\n",
       "\n",
       "    .dataframe thead th {\n",
       "        text-align: right;\n",
       "    }\n",
       "</style>\n",
       "<table border=\"1\" class=\"dataframe\">\n",
       "  <thead>\n",
       "    <tr style=\"text-align: right;\">\n",
       "      <th></th>\n",
       "      <th>0</th>\n",
       "      <th>1</th>\n",
       "      <th>2</th>\n",
       "      <th>3</th>\n",
       "      <th>4</th>\n",
       "      <th>5</th>\n",
       "      <th>6</th>\n",
       "      <th>7</th>\n",
       "      <th>8</th>\n",
       "      <th>9</th>\n",
       "      <th>...</th>\n",
       "      <th>304008</th>\n",
       "      <th>304009</th>\n",
       "      <th>304010</th>\n",
       "      <th>304011</th>\n",
       "      <th>304012</th>\n",
       "      <th>304013</th>\n",
       "      <th>304014</th>\n",
       "      <th>304015</th>\n",
       "      <th>304016</th>\n",
       "      <th>304017</th>\n",
       "    </tr>\n",
       "  </thead>\n",
       "  <tbody>\n",
       "    <tr>\n",
       "      <th>opcode</th>\n",
       "      <td>push</td>\n",
       "      <td>mov</td>\n",
       "      <td>push</td>\n",
       "      <td>mov</td>\n",
       "      <td>push</td>\n",
       "      <td>mov</td>\n",
       "      <td>dec</td>\n",
       "      <td>and</td>\n",
       "      <td>mov</td>\n",
       "      <td>mov</td>\n",
       "      <td>...</td>\n",
       "      <td>pop</td>\n",
       "      <td>retn</td>\n",
       "      <td>mov</td>\n",
       "      <td>mov</td>\n",
       "      <td>pop</td>\n",
       "      <td>retn</td>\n",
       "      <td>mov</td>\n",
       "      <td>mov</td>\n",
       "      <td>pop</td>\n",
       "      <td>retn</td>\n",
       "    </tr>\n",
       "  </tbody>\n",
       "</table>\n",
       "<p>1 rows × 304018 columns</p>\n",
       "</div>"
      ],
      "text/plain": [
       "       0      1      2      3      4      5      6      7      8      9       \\\n",
       "opcode   push    mov   push    mov   push    mov    dec    and    mov    mov   \n",
       "\n",
       "        ... 304008 304009 304010 304011 304012 304013 304014 304015 304016  \\\n",
       "opcode  ...    pop   retn    mov    mov    pop   retn    mov    mov    pop   \n",
       "\n",
       "       304017  \n",
       "opcode   retn  \n",
       "\n",
       "[1 rows x 304018 columns]"
      ]
     },
     "execution_count": 55,
     "metadata": {},
     "output_type": "execute_result"
    }
   ],
   "source": [
    "df.transpose()"
   ]
  },
  {
   "cell_type": "code",
   "execution_count": 56,
   "id": "fc175d13",
   "metadata": {},
   "outputs": [
    {
     "data": {
      "text/html": [
       "<div>\n",
       "<style scoped>\n",
       "    .dataframe tbody tr th:only-of-type {\n",
       "        vertical-align: middle;\n",
       "    }\n",
       "\n",
       "    .dataframe tbody tr th {\n",
       "        vertical-align: top;\n",
       "    }\n",
       "\n",
       "    .dataframe thead th {\n",
       "        text-align: right;\n",
       "    }\n",
       "</style>\n",
       "<table border=\"1\" class=\"dataframe\">\n",
       "  <thead>\n",
       "    <tr style=\"text-align: right;\">\n",
       "      <th></th>\n",
       "      <th>opcode</th>\n",
       "    </tr>\n",
       "  </thead>\n",
       "  <tbody>\n",
       "    <tr>\n",
       "      <th>0</th>\n",
       "      <td>push</td>\n",
       "    </tr>\n",
       "    <tr>\n",
       "      <th>1</th>\n",
       "      <td>mov</td>\n",
       "    </tr>\n",
       "    <tr>\n",
       "      <th>2</th>\n",
       "      <td>push</td>\n",
       "    </tr>\n",
       "    <tr>\n",
       "      <th>3</th>\n",
       "      <td>mov</td>\n",
       "    </tr>\n",
       "    <tr>\n",
       "      <th>4</th>\n",
       "      <td>push</td>\n",
       "    </tr>\n",
       "    <tr>\n",
       "      <th>...</th>\n",
       "      <td>...</td>\n",
       "    </tr>\n",
       "    <tr>\n",
       "      <th>304013</th>\n",
       "      <td>retn</td>\n",
       "    </tr>\n",
       "    <tr>\n",
       "      <th>304014</th>\n",
       "      <td>mov</td>\n",
       "    </tr>\n",
       "    <tr>\n",
       "      <th>304015</th>\n",
       "      <td>mov</td>\n",
       "    </tr>\n",
       "    <tr>\n",
       "      <th>304016</th>\n",
       "      <td>pop</td>\n",
       "    </tr>\n",
       "    <tr>\n",
       "      <th>304017</th>\n",
       "      <td>retn</td>\n",
       "    </tr>\n",
       "  </tbody>\n",
       "</table>\n",
       "<p>304018 rows × 1 columns</p>\n",
       "</div>"
      ],
      "text/plain": [
       "       opcode\n",
       "0        push\n",
       "1         mov\n",
       "2        push\n",
       "3         mov\n",
       "4        push\n",
       "...       ...\n",
       "304013   retn\n",
       "304014    mov\n",
       "304015    mov\n",
       "304016    pop\n",
       "304017   retn\n",
       "\n",
       "[304018 rows x 1 columns]"
      ]
     },
     "execution_count": 56,
     "metadata": {},
     "output_type": "execute_result"
    }
   ],
   "source": [
    "df"
   ]
  },
  {
   "cell_type": "code",
   "execution_count": 57,
   "id": "e0587eba",
   "metadata": {},
   "outputs": [
    {
     "data": {
      "text/html": [
       "<div>\n",
       "<style scoped>\n",
       "    .dataframe tbody tr th:only-of-type {\n",
       "        vertical-align: middle;\n",
       "    }\n",
       "\n",
       "    .dataframe tbody tr th {\n",
       "        vertical-align: top;\n",
       "    }\n",
       "\n",
       "    .dataframe thead th {\n",
       "        text-align: right;\n",
       "    }\n",
       "</style>\n",
       "<table border=\"1\" class=\"dataframe\">\n",
       "  <thead>\n",
       "    <tr style=\"text-align: right;\">\n",
       "      <th></th>\n",
       "      <th>opcode</th>\n",
       "    </tr>\n",
       "  </thead>\n",
       "  <tbody>\n",
       "    <tr>\n",
       "      <th>0</th>\n",
       "      <td>push</td>\n",
       "    </tr>\n",
       "    <tr>\n",
       "      <th>1</th>\n",
       "      <td>mov</td>\n",
       "    </tr>\n",
       "    <tr>\n",
       "      <th>2</th>\n",
       "      <td>push</td>\n",
       "    </tr>\n",
       "    <tr>\n",
       "      <th>3</th>\n",
       "      <td>mov</td>\n",
       "    </tr>\n",
       "    <tr>\n",
       "      <th>4</th>\n",
       "      <td>push</td>\n",
       "    </tr>\n",
       "    <tr>\n",
       "      <th>...</th>\n",
       "      <td>...</td>\n",
       "    </tr>\n",
       "    <tr>\n",
       "      <th>304013</th>\n",
       "      <td>retn</td>\n",
       "    </tr>\n",
       "    <tr>\n",
       "      <th>304014</th>\n",
       "      <td>mov</td>\n",
       "    </tr>\n",
       "    <tr>\n",
       "      <th>304015</th>\n",
       "      <td>mov</td>\n",
       "    </tr>\n",
       "    <tr>\n",
       "      <th>304016</th>\n",
       "      <td>pop</td>\n",
       "    </tr>\n",
       "    <tr>\n",
       "      <th>304017</th>\n",
       "      <td>retn</td>\n",
       "    </tr>\n",
       "  </tbody>\n",
       "</table>\n",
       "<p>304018 rows × 1 columns</p>\n",
       "</div>"
      ],
      "text/plain": [
       "       opcode\n",
       "0        push\n",
       "1         mov\n",
       "2        push\n",
       "3         mov\n",
       "4        push\n",
       "...       ...\n",
       "304013   retn\n",
       "304014    mov\n",
       "304015    mov\n",
       "304016    pop\n",
       "304017   retn\n",
       "\n",
       "[304018 rows x 1 columns]"
      ]
     },
     "execution_count": 57,
     "metadata": {},
     "output_type": "execute_result"
    }
   ],
   "source": [
    "df"
   ]
  },
  {
   "cell_type": "code",
   "execution_count": 58,
   "id": "384c201f",
   "metadata": {},
   "outputs": [
    {
     "data": {
      "text/html": [
       "<div>\n",
       "<style scoped>\n",
       "    .dataframe tbody tr th:only-of-type {\n",
       "        vertical-align: middle;\n",
       "    }\n",
       "\n",
       "    .dataframe tbody tr th {\n",
       "        vertical-align: top;\n",
       "    }\n",
       "\n",
       "    .dataframe thead th {\n",
       "        text-align: right;\n",
       "    }\n",
       "</style>\n",
       "<table border=\"1\" class=\"dataframe\">\n",
       "  <thead>\n",
       "    <tr style=\"text-align: right;\">\n",
       "      <th></th>\n",
       "      <th>0</th>\n",
       "      <th>1</th>\n",
       "      <th>2</th>\n",
       "      <th>3</th>\n",
       "      <th>4</th>\n",
       "      <th>5</th>\n",
       "      <th>6</th>\n",
       "      <th>7</th>\n",
       "      <th>8</th>\n",
       "      <th>9</th>\n",
       "      <th>...</th>\n",
       "      <th>304008</th>\n",
       "      <th>304009</th>\n",
       "      <th>304010</th>\n",
       "      <th>304011</th>\n",
       "      <th>304012</th>\n",
       "      <th>304013</th>\n",
       "      <th>304014</th>\n",
       "      <th>304015</th>\n",
       "      <th>304016</th>\n",
       "      <th>304017</th>\n",
       "    </tr>\n",
       "  </thead>\n",
       "  <tbody>\n",
       "    <tr>\n",
       "      <th>opcode</th>\n",
       "      <td>push</td>\n",
       "      <td>mov</td>\n",
       "      <td>push</td>\n",
       "      <td>mov</td>\n",
       "      <td>push</td>\n",
       "      <td>mov</td>\n",
       "      <td>dec</td>\n",
       "      <td>and</td>\n",
       "      <td>mov</td>\n",
       "      <td>mov</td>\n",
       "      <td>...</td>\n",
       "      <td>pop</td>\n",
       "      <td>retn</td>\n",
       "      <td>mov</td>\n",
       "      <td>mov</td>\n",
       "      <td>pop</td>\n",
       "      <td>retn</td>\n",
       "      <td>mov</td>\n",
       "      <td>mov</td>\n",
       "      <td>pop</td>\n",
       "      <td>retn</td>\n",
       "    </tr>\n",
       "  </tbody>\n",
       "</table>\n",
       "<p>1 rows × 304018 columns</p>\n",
       "</div>"
      ],
      "text/plain": [
       "       0      1      2      3      4      5      6      7      8      9       \\\n",
       "opcode   push    mov   push    mov   push    mov    dec    and    mov    mov   \n",
       "\n",
       "        ... 304008 304009 304010 304011 304012 304013 304014 304015 304016  \\\n",
       "opcode  ...    pop   retn    mov    mov    pop   retn    mov    mov    pop   \n",
       "\n",
       "       304017  \n",
       "opcode   retn  \n",
       "\n",
       "[1 rows x 304018 columns]"
      ]
     },
     "execution_count": 58,
     "metadata": {},
     "output_type": "execute_result"
    }
   ],
   "source": [
    "df.T"
   ]
  },
  {
   "cell_type": "code",
   "execution_count": 59,
   "id": "c0620cf6",
   "metadata": {},
   "outputs": [],
   "source": [
    "from sklearn.feature_extraction.text import CountVectorizer"
   ]
  },
  {
   "cell_type": "code",
   "execution_count": 60,
   "id": "35272a04",
   "metadata": {},
   "outputs": [
    {
     "ename": "SyntaxError",
     "evalue": "invalid syntax (2338381449.py, line 1)",
     "output_type": "error",
     "traceback": [
      "\u001b[1;36m  Input \u001b[1;32mIn [60]\u001b[1;36m\u001b[0m\n\u001b[1;33m    df = df.T[]\u001b[0m\n\u001b[1;37m              ^\u001b[0m\n\u001b[1;31mSyntaxError\u001b[0m\u001b[1;31m:\u001b[0m invalid syntax\n"
     ]
    }
   ],
   "source": [
    "df = df.T[]"
   ]
  },
  {
   "cell_type": "code",
   "execution_count": 61,
   "id": "3027f246",
   "metadata": {},
   "outputs": [
    {
     "data": {
      "text/plain": [
       "array([['push'],\n",
       "       ['mov'],\n",
       "       ['push'],\n",
       "       ...,\n",
       "       ['mov'],\n",
       "       ['pop'],\n",
       "       ['retn']], dtype=object)"
      ]
     },
     "execution_count": 61,
     "metadata": {},
     "output_type": "execute_result"
    }
   ],
   "source": [
    "df.to_numpy()"
   ]
  },
  {
   "cell_type": "code",
   "execution_count": 62,
   "id": "91389f03",
   "metadata": {},
   "outputs": [
    {
     "data": {
      "text/html": [
       "<div>\n",
       "<style scoped>\n",
       "    .dataframe tbody tr th:only-of-type {\n",
       "        vertical-align: middle;\n",
       "    }\n",
       "\n",
       "    .dataframe tbody tr th {\n",
       "        vertical-align: top;\n",
       "    }\n",
       "\n",
       "    .dataframe thead th {\n",
       "        text-align: right;\n",
       "    }\n",
       "</style>\n",
       "<table border=\"1\" class=\"dataframe\">\n",
       "  <thead>\n",
       "    <tr style=\"text-align: right;\">\n",
       "      <th></th>\n",
       "      <th>0</th>\n",
       "      <th>1</th>\n",
       "      <th>2</th>\n",
       "      <th>3</th>\n",
       "      <th>4</th>\n",
       "      <th>5</th>\n",
       "      <th>6</th>\n",
       "      <th>7</th>\n",
       "      <th>8</th>\n",
       "      <th>9</th>\n",
       "      <th>...</th>\n",
       "      <th>304008</th>\n",
       "      <th>304009</th>\n",
       "      <th>304010</th>\n",
       "      <th>304011</th>\n",
       "      <th>304012</th>\n",
       "      <th>304013</th>\n",
       "      <th>304014</th>\n",
       "      <th>304015</th>\n",
       "      <th>304016</th>\n",
       "      <th>304017</th>\n",
       "    </tr>\n",
       "  </thead>\n",
       "  <tbody>\n",
       "    <tr>\n",
       "      <th>opcode</th>\n",
       "      <td>push</td>\n",
       "      <td>mov</td>\n",
       "      <td>push</td>\n",
       "      <td>mov</td>\n",
       "      <td>push</td>\n",
       "      <td>mov</td>\n",
       "      <td>dec</td>\n",
       "      <td>and</td>\n",
       "      <td>mov</td>\n",
       "      <td>mov</td>\n",
       "      <td>...</td>\n",
       "      <td>pop</td>\n",
       "      <td>retn</td>\n",
       "      <td>mov</td>\n",
       "      <td>mov</td>\n",
       "      <td>pop</td>\n",
       "      <td>retn</td>\n",
       "      <td>mov</td>\n",
       "      <td>mov</td>\n",
       "      <td>pop</td>\n",
       "      <td>retn</td>\n",
       "    </tr>\n",
       "  </tbody>\n",
       "</table>\n",
       "<p>1 rows × 304018 columns</p>\n",
       "</div>"
      ],
      "text/plain": [
       "       0      1      2      3      4      5      6      7      8      9       \\\n",
       "opcode   push    mov   push    mov   push    mov    dec    and    mov    mov   \n",
       "\n",
       "        ... 304008 304009 304010 304011 304012 304013 304014 304015 304016  \\\n",
       "opcode  ...    pop   retn    mov    mov    pop   retn    mov    mov    pop   \n",
       "\n",
       "       304017  \n",
       "opcode   retn  \n",
       "\n",
       "[1 rows x 304018 columns]"
      ]
     },
     "execution_count": 62,
     "metadata": {},
     "output_type": "execute_result"
    }
   ],
   "source": [
    "df.transpose()"
   ]
  },
  {
   "cell_type": "code",
   "execution_count": 65,
   "id": "602aef5d",
   "metadata": {},
   "outputs": [
    {
     "data": {
      "text/plain": [
       "array([['push'],\n",
       "       ['mov'],\n",
       "       ['push'],\n",
       "       ...,\n",
       "       ['mov'],\n",
       "       ['pop'],\n",
       "       ['retn']], dtype=object)"
      ]
     },
     "execution_count": 65,
     "metadata": {},
     "output_type": "execute_result"
    }
   ],
   "source": [
    "df.to_numpy()"
   ]
  },
  {
   "cell_type": "code",
   "execution_count": 66,
   "id": "8798a6f0",
   "metadata": {},
   "outputs": [
    {
     "data": {
      "text/plain": [
       "array([['push', 'mov', 'push', ..., 'mov', 'pop', 'retn']], dtype=object)"
      ]
     },
     "execution_count": 66,
     "metadata": {},
     "output_type": "execute_result"
    }
   ],
   "source": [
    "df.to_numpy().reshape(1,304018)"
   ]
  },
  {
   "cell_type": "code",
   "execution_count": 68,
   "id": "7b69eb4e",
   "metadata": {},
   "outputs": [],
   "source": [
    "opcode = df.to_numpy().reshape(1, 304018)"
   ]
  },
  {
   "cell_type": "code",
   "execution_count": 69,
   "id": "f3c8e677",
   "metadata": {},
   "outputs": [
    {
     "data": {
      "text/plain": [
       "array([['push', 'mov', 'push', ..., 'mov', 'pop', 'retn']], dtype=object)"
      ]
     },
     "execution_count": 69,
     "metadata": {},
     "output_type": "execute_result"
    }
   ],
   "source": [
    "opcode"
   ]
  }
 ],
 "metadata": {
  "kernelspec": {
   "display_name": "Python 3 (ipykernel)",
   "language": "python",
   "name": "python3"
  },
  "language_info": {
   "codemirror_mode": {
    "name": "ipython",
    "version": 3
   },
   "file_extension": ".py",
   "mimetype": "text/x-python",
   "name": "python",
   "nbconvert_exporter": "python",
   "pygments_lexer": "ipython3",
   "version": "3.9.12"
  }
 },
 "nbformat": 4,
 "nbformat_minor": 5
}
